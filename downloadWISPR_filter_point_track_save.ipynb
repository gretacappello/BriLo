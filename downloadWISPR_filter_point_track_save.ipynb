{
 "cells": [
  {
   "cell_type": "code",
   "execution_count": 1,
   "id": "d60418b8",
   "metadata": {},
   "outputs": [],
   "source": [
    "#%matplotlib widget\n",
    "\n",
    "%matplotlib qt"
   ]
  },
  {
   "cell_type": "code",
   "execution_count": 2,
   "id": "6176054a",
   "metadata": {},
   "outputs": [],
   "source": [
    "import matplotlib.pyplot as plt\n",
    "import numpy as np\n",
    "import glob\n",
    "from astropy.io import fits\n",
    "import astropy.units as u\n",
    "from astropy.visualization import ImageNormalize\n",
    "from astropy.time import Time\n",
    "from astropy.visualization import time_support\n",
    "import matplotlib\n",
    "import matplotlib.pyplot as plt\n",
    "import matplotlib.colors as colors\n",
    "import matplotlib.patheffects as path_effects\n",
    "from astropy.visualization import LogStretch, ZScaleInterval, ImageNormalize, PercentileInterval, AsinhStretch, LinearStretch\n",
    "from sunpy.net import Fido\n",
    "from sunpy.net import attrs as a\n",
    "import sunpy.map\n",
    "from astropy.wcs import WCS, wcs\n",
    "import os\n",
    "from sunpy.coordinates import get_body_heliographic_stonyhurst, get_horizons_coord"
   ]
  },
  {
   "cell_type": "code",
   "execution_count": 15,
   "id": "9b5cdd2f",
   "metadata": {},
   "outputs": [],
   "source": [
    "#Initial settings\n",
    "\n",
    "#Option 1) download WISPR images directly from VSO\n",
    "download = 1\n",
    "\n",
    "#Option 2) if you wanna use your file, uncomment. Then also set files_wispr variable to path_L3file\n",
    "#download = 0\n",
    "#path_L3file = '/Users/gretacappello/Desktop/jupyter_notebooks/thomson_scattering/material_andrea/Examples/example_1/example_1_LW/psp_LW_wispr_20181106T154054_V3_1221.fits'\n",
    "#files_wispr = [path_L3file]\n",
    "\n",
    "#Set example number. If you wanna track multiple time, you must change the example value from 1 to 3 and run the code 3 times. It will create each time a folder with the examlpe number included in the name.\n",
    "example = 1\n",
    "key = \"real\"\n",
    "nm = 0\n",
    "\n",
    "#Insert your directory to save figures\n",
    "path_figures = '/Users/gretacappello/Desktop/PROJECT_2_METIS_TS/PSI_simulation_erika/plots/' \n",
    "\n",
    "#select time for which you wanna do the analysis. Note: to download a single or a few frames, you must restrict the interval of time.\n",
    "attrs_time = a.Time('2021/04/29 11:57:00', '2021/04/29 12:05:00')\n",
    "\n",
    "\n",
    "#other keywords\n",
    "#key = \"fake\" \n",
    "#key = 'raytracing'\n",
    "\n",
    "#longitude = 175\n",
    "#latitude = 21 #'M10'"
   ]
  },
  {
   "cell_type": "code",
   "execution_count": 581,
   "id": "4418c1c6",
   "metadata": {},
   "outputs": [],
   "source": [
    "if key == \"real\" and download == 1:\n",
    "    #Download WISPR data\n",
    "    result_wispr = Fido.search(attrs_time, a.Instrument('WISPR'), a.Detector('INNER'), a.Level('3')) \n",
    "    #result_wispr = Fido.search(attrs_time, a.Instrument('WISPR'), a.Detector('INNER'), a.Level('2')) \n",
    "    print(result_wispr)\n",
    "    files_wispr= Fido.fetch(result_wispr[0])  #file if you wanna download"
   ]
  },
  {
   "cell_type": "code",
   "execution_count": 6,
   "id": "9ebdf56f",
   "metadata": {},
   "outputs": [
    {
     "name": "stdout",
     "output_type": "stream",
     "text": [
      "0 /Users/gretacappello/Desktop/jupyter_notebooks/thomson_scattering/material_andrea/Examples/example_1/example_1_LW/psp_LW_wispr_20181106T154054_V3_1221.fits\n",
      "/Users/gretacappello/Desktop/jupyter_notebooks/thomson_scattering/material_andrea/Examples/example_1/example_1_LW/psp_LW_wispr_20181106T154054_V3_1221.fits\n"
     ]
    },
    {
     "name": "stderr",
     "output_type": "stream",
     "text": [
      "WARNING: VerifyWarning: Invalid 'BLANK' keyword in header.  The 'BLANK' keyword is only applicable to integer data, and will be ignored in this HDU. [astropy.io.fits.hdu.image]\n"
     ]
    }
   ],
   "source": [
    "if key == \"real\":\n",
    "    for i in range(len(files_wispr)):\n",
    "        print(i, files_wispr[i])\n",
    "    path =files_wispr[0]\n",
    "    print(path)\n",
    "\n",
    "    files = glob.glob(path)\n",
    "    files = sorted(files)\n",
    "\n",
    "    hea= []\n",
    "    ima = []\n",
    "\n",
    "    for i in range(len(files)):\n",
    "        hea.append([])\n",
    "        ima.append([])\n",
    "    for i in range(len(files)):   \n",
    "        hea[i] = fits.getheader(files[i])\n",
    "        ima[i] = fits.getdata(files[i])\n",
    "\n",
    "    header = hea[0]\n",
    "    images = ima[0]\n",
    "    #make a maps' sequence\n",
    "\n",
    "    m_seq = sunpy.map.Map(files, sequence = True)"
   ]
  },
  {
   "cell_type": "code",
   "execution_count": 7,
   "id": "b9f337e0",
   "metadata": {},
   "outputs": [],
   "source": [
    "if key == \"fake\":\n",
    "\n",
    "    path = '/Users/gretacappello/Downloads/wispr_i+o_mask_tb000320.fts'\n",
    "\n",
    "    f1 = glob.glob(path)\n",
    "    f1 = sorted(f1)\n",
    "    m_seq = sunpy.map.Map(f1, sequence = True)\n",
    "    m_seq[0]\n",
    "    header = fits.getheader(path)\n",
    "    images  = fits.getdata(path)\n",
    "    print(Time(header['DATE_OBS']))\n",
    "    obstime = Time(header['DATE_OBS'])  # Make sure the correct time is assigned here\n",
    "    #Get the position of Parker Solar Probe at the observation time\n",
    "    get_horizons_coord(\"Parker Solar Probe\",obstime)\n",
    "    DSUN_OBS_solar_radii = header['DSUN_OBS']\n",
    "    print(DSUN_OBS_solar_radii)\n",
    "    header['R_SUN'] =DSUN_OBS_solar_radii\n",
    "    header['DATE-OBS'] = header['DATE_OBS']\n",
    "    "
   ]
  },
  {
   "cell_type": "code",
   "execution_count": 8,
   "id": "83111f8c",
   "metadata": {},
   "outputs": [],
   "source": [
    "if key == 'raytracing':\n",
    "    directory_rt = '/Users/gretacappello/Desktop/PROJECT_2_METIS_TS/PSI_simulation_erika/raytracingHCS_29March2024/' \n",
    "    path = directory_rt +'raytracingHCS_lon'+str(longitude) + 'lat'+str(latitude) + '/synth_ch_psp_l3_wispr_20240329t180015_v1_1211.fits'\n",
    "    f_rt = glob.glob(path)\n",
    "    f_rt = sorted(f_rt)\n",
    "    m_seq = sunpy.map.Map(f_rt, sequence = True)\n",
    "    m_seq[0]\n",
    "    header = fits.getheader(path)\n",
    "    images  = fits.getdata(path)\n",
    "    print(Time(header['DATE-OBS']))\n",
    "    obstime = Time(header['DATE-OBS'])  # Make sure the correct time is assigned here\n",
    "    #Get the position of Parker Solar Probe at the observation time\n",
    "    #get_horizons_coord(\"Parker Solar Probe\",obstime)\n",
    "    DSUN_OBS_solar_radii = header['DSUN_OBS']\n",
    "    print(DSUN_OBS_solar_radii)\n",
    "    header['R_SUN'] = DSUN_OBS_solar_radii\n",
    "    header['DATE-OBS'] = header['DATE-OBS']\n",
    "    #print(header)"
   ]
  },
  {
   "cell_type": "code",
   "execution_count": 9,
   "id": "1a43e199",
   "metadata": {},
   "outputs": [
    {
     "name": "stdout",
     "output_type": "stream",
     "text": [
      "1\n"
     ]
    }
   ],
   "source": [
    "#Create a folder with the example number\n",
    "print(example)\n",
    "folderr = os.path.join(path_figures, f\"test_{example}\")\n",
    "if not os.path.exists(folderr):\n",
    "    os.makedirs(folderr)\n",
    "cartella = folderr + \"/\""
   ]
  },
  {
   "cell_type": "code",
   "execution_count": 11,
   "id": "c18feabc",
   "metadata": {},
   "outputs": [
    {
     "name": "stderr",
     "output_type": "stream",
     "text": [
      "WARNING: FITSFixedWarning: 'datfix' made the change 'Set MJD-OBS to 58428.653402 from DATE-OBS.\n",
      "Set MJD-BEG to 58428.653402 from DATE-BEG.\n",
      "Set MJD-AVG to 58428.654256 from DATE-AVG.\n",
      "Set MJD-END to 58428.655111 from DATE-END'. [astropy.wcs.wcs]\n"
     ]
    },
    {
     "name": "stdout",
     "output_type": "stream",
     "text": [
      "WCS Keywords\n",
      "\n",
      "Number of WCS axes: 2\n",
      "CTYPE : 'HPLN-ZPN'  'HPLT-ZPN'  \n",
      "CRVAL : 32.2994179668  -5.32795557231  \n",
      "CRPIX : 495.773  507.555  \n",
      "PC1_1 PC1_2  : 0.985859296508  0.142633434984  \n",
      "PC2_1 PC2_2  : -0.142494542251  0.985575239292  \n",
      "CDELT : 0.042305  0.042305  \n",
      "NAXIS : 960  1024\n",
      "---------------------\n",
      "Sanity check :D\n",
      "HPC Longitude: [[0.17318639 0.17377015 0.17435441 ... 0.84169937 0.84235796 0.84301613]\n",
      " [0.17326626 0.17385012 0.17443448 ... 0.84180386 0.84246246 0.84312062]\n",
      " [0.17334624 0.17393021 0.17451468 ... 0.84190826 0.84256686 0.84322503]\n",
      " ...\n",
      " [0.28622373 0.28682519 0.28742704 ... 0.91624028 0.91682101 0.91740131]\n",
      " [0.28635508 0.28695647 0.28755827 ... 0.91627823 0.91685881 0.91743897]\n",
      " [0.28648648 0.28708781 0.28768954 ... 0.91631607 0.9168965  0.91747652]], HPC Latitude: [[-0.36223055 -0.3624215  -0.36261238 ... -0.46032122 -0.46030423\n",
      "  -0.46028698]\n",
      " [-0.36166002 -0.36185084 -0.36204157 ... -0.45974844 -0.4597316\n",
      "  -0.4597145 ]\n",
      " [-0.36108912 -0.36127979 -0.36147039 ... -0.45917524 -0.45915855\n",
      "  -0.45914161]\n",
      " ...\n",
      " [ 0.28572963  0.28572299  0.28571615 ...  0.19894486  0.19879409\n",
      "   0.19864326]\n",
      " [ 0.28628749  0.28628102  0.28627435 ...  0.19952035  0.19936945\n",
      "   0.19921848]\n",
      " [ 0.28684494  0.28683863  0.28683213 ...  0.20009544  0.19994439\n",
      "   0.19979329]]\n",
      "type(hpc_x):  <class 'numpy.ndarray'>\n",
      "len(hpc_x):  1024\n",
      "[[0.1612045  0.16154541 0.1618872  ... 0.92035346 0.92144692 0.9225403 ]\n",
      " [0.16081917 0.16115989 0.16150149 ... 0.92000237 0.92109613 0.92218981]\n",
      " [0.16043427 0.1607748  0.16111621 ... 0.91965143 0.92074549 0.92183947]\n",
      " ...\n",
      " [0.16356544 0.16390631 0.16424803 ... 0.87907531 0.88007985 0.88108431]\n",
      " [0.16395976 0.16430084 0.16464276 ... 0.87937417 0.88037825 0.88138226]\n",
      " [0.16435452 0.16469581 0.16503794 ... 0.87967333 0.88067696 0.88168052]]\n",
      "1.0\n"
     ]
    },
    {
     "name": "stderr",
     "output_type": "stream",
     "text": [
      "WARNING: SunpyMetadataWarning: Could not parse unit string \"MSB\" as a valid FITS unit.\n",
      "See https://docs.sunpy.org/en/stable/code_ref/map.html#fixing-map-metadata for how to fix metadata before loading it with sunpy.map.Map.\n",
      "See https://fits.gsfc.nasa.gov/fits_standard.html forthe FITS unit standards. [sunpy.map.mapbase]\n"
     ]
    }
   ],
   "source": [
    "#Apply some filters to WISPR images\n",
    "\n",
    "def meters_to_solar_radii(distance_meters):\n",
    "    solar_radius_meters = 6.957e8  # Solar radius in meters\n",
    "    return distance_meters / solar_radius_meters\n",
    "\n",
    "\n",
    "\n",
    "# Create WCS object\n",
    "wcs = WCS(header)\n",
    "print(wcs)\n",
    "\n",
    "# Extract pixel grid \n",
    "ny, nx = images.shape  # Get the image dimensions (ny: rows, nx: columns)\n",
    "x = np.arange(nx)\n",
    "y = np.arange(ny)\n",
    "x_grid, y_grid = np.meshgrid(x, y)\n",
    "\n",
    "# Convert the pixel grid to helioprojective coordinates\n",
    "helioprojective_coords = wcs.pixel_to_world(x_grid, y_grid)\n",
    "\n",
    "# Extract HPC longitude (x) and latitude (y) in degree in this case\n",
    "hpc_x_deg = helioprojective_coords.Tx.degree  # .arcsec for Helioprojective longitude in arcseconds\n",
    "hpc_y_deg = helioprojective_coords.Ty.degree  #  .arcsec for Helioprojective latitude in arcseconds\n",
    "\n",
    "# Conversion from deg to radians\n",
    "hpc_x=np.deg2rad(hpc_x_deg)\n",
    "hpc_y=np.deg2rad(hpc_y_deg)\n",
    "\n",
    "# Sanity check :D\n",
    "print(\"---------------------\")\n",
    "print(\"Sanity check :D\")\n",
    "print(f\"HPC Longitude: {hpc_x}, HPC Latitude: {hpc_y}\")\n",
    "print(\"type(hpc_x): \",type(hpc_x))\n",
    "print(\"len(hpc_x): \",len(hpc_x))\n",
    "\n",
    "#RADIAL FILTER by Erika\n",
    "rfilter = hpc_x**2 + hpc_y**2\n",
    "print(rfilter)\n",
    "\n",
    "#dfilter = np.ones(len(hdr1))\n",
    "for i in range(len(header)):\n",
    "    if key == \"fake\":\n",
    "        psp_r = header['R_SUN']\n",
    "    if key == \"real\":\n",
    "        psp_r = header['DSUN_OBS']\n",
    "    if key ==\"raytracing\":\n",
    "        psp_r = header['R_SUN']\n",
    "\n",
    "    dfilter = (psp_r/np.nanmin(psp_r))**3\n",
    "    \n",
    "print(dfilter)\n",
    "\n",
    "\n",
    "\n",
    "r_filter_map = m_seq[nm] * rfilter * dfilter* rfilter * dfilter #[nm]\n"
   ]
  },
  {
   "cell_type": "code",
   "execution_count": 12,
   "id": "c9edf069",
   "metadata": {},
   "outputs": [],
   "source": [
    "#function to click on feature and determine x and y coordinates in pixels\n",
    "\n",
    "def onclick(event):\n",
    "    global x_coords, y_coords\n",
    "    x_coords.append(event.xdata)\n",
    "    y_coords.append(event.ydata)\n",
    "    \n",
    "    ax.plot(event.xdata, event.ydata, marker = 'x', ls = '', color = 'r', markersize = 4)\n",
    "    #print(event.xdata, event.ydata)"
   ]
  },
  {
   "cell_type": "code",
   "execution_count": 13,
   "id": "de952989",
   "metadata": {},
   "outputs": [],
   "source": [
    "#x and y coordinates in pixels determined by clicking on L3 data\n",
    "\n",
    "x_coords = []\n",
    "y_coords = []"
   ]
  },
  {
   "cell_type": "code",
   "execution_count": 14,
   "id": "05ad13bf",
   "metadata": {},
   "outputs": [
    {
     "name": "stdout",
     "output_type": "stream",
     "text": [
      "CLICK:\n"
     ]
    }
   ],
   "source": [
    "#Click along the ray for each ray to get the coordinates.\n",
    "\n",
    "\n",
    "fig = plt.figure()\n",
    "ax = fig.add_subplot(projection=m_seq[nm])\n",
    "#m_seq[nm].plot(axes=ax, clip_interval=(2, 97)*u.percent)\n",
    "\n",
    "if key == 'real':\n",
    "    #filtered map\n",
    "    #r_filter_map.plot(axes=ax, clip_interval=(2, 97)*u.percent)\n",
    "\n",
    "    #pure map\n",
    "    m_seq[0].plot(axes=ax, clip_interval=(1, 99)*u.percent)\n",
    "if key == 'fake':\n",
    "    norm = ImageNormalize(r_filter_map.data,\n",
    "                  interval=PercentileInterval(99.6),  # puoi usare anche ZScaleInterval()\n",
    "                  stretch=AsinhStretch(0.005))         # o LogStretch()\n",
    "\n",
    "    cmap = matplotlib.colormaps['binary_r']\n",
    "    r_filter_map.plot(axes=ax, norm=norm,  cmap=cmap)\n",
    "if key == 'raytracing':\n",
    "    #m_seq[0].plot(axes=ax, clip_interval=(2, 93)*u.percent)\n",
    "    m_seq[0].plot(axes=ax, clip_interval=(1, 99)*u.percent)\n",
    "print(\"CLICK:\")\n",
    "cid = fig.canvas.mpl_connect('button_press_event', onclick)"
   ]
  },
  {
   "cell_type": "code",
   "execution_count": 591,
   "id": "d1b16856",
   "metadata": {},
   "outputs": [],
   "source": [
    "#save coordinates to text file\n",
    "\n",
    "xx = np.round(np.array(x_coords))\n",
    "yy = np.round(np.array(y_coords))\n",
    "\n",
    "coords = np.column_stack([xx,yy])\n",
    "file_path = os.path.join(cartella, f'points_L3_{example}_points.txt')\n",
    "np.savetxt(file_path, coords, fmt=['%d', '%d'])\n"
   ]
  },
  {
   "cell_type": "code",
   "execution_count": 592,
   "id": "28cecc1b",
   "metadata": {},
   "outputs": [
    {
     "name": "stdout",
     "output_type": "stream",
     "text": [
      "Fitted curve data saved to /Users/gretacappello/Desktop/PROJECT_2_METIS_TS/PSI_simulation_erika/plots/test_6/interpolated_points_L3_6_line.txt\n"
     ]
    }
   ],
   "source": [
    "#Fit the tracked point with a Quadratic function.\n",
    "\n",
    "x = xx\n",
    "y = yy\n",
    "\n",
    "# Fit a second-order polynomial (quadratic fit)\n",
    "coeffs = np.polyfit(x, y, 2)  # Returns [a, b, c] for ax^2 + bx + c\n",
    "poly_func = np.poly1d(coeffs)  # Create a polynomial function\n",
    "\n",
    "# Generate 100 evenly spaced x values for interpolation\n",
    "x_interp = np.linspace(min(x), max(x), 100)\n",
    "y_interp = poly_func(x_interp)\n",
    "\n",
    "# Save interpolated data to a new file\n",
    "x_interp = np.round(np.array(x_interp))\n",
    "y_interp = np.round(np.array(y_interp))\n",
    "\n",
    "coords = np.column_stack([x_interp,y_interp])\n",
    "file_path = os.path.join(cartella, f'interpolated_points_L3_{example}_line.txt')\n",
    "np.savetxt(file_path, coords, fmt=['%d', '%d'])\n",
    "\n",
    "fig = plt.figure()\n",
    "ax = fig.add_subplot(projection=m_seq[nm])\n",
    "if key == 'real':\n",
    "    #r_filter_map.plot(axes=ax, clip_interval=(2, 97)*u.percent)\n",
    "    m_seq[0].plot(axes=ax, clip_interval=(1, 99)*u.percent)\n",
    "if key == 'fake':\n",
    "    r_filter_map.plot(axes=ax, norm=norm,  cmap=cmap)\n",
    "if key == 'raytracing':\n",
    "   m_seq[0].plot(axes=ax, clip_interval=(1, 99)*u.percent)\n",
    "# Plot the original data and the fitted curve\n",
    "plt.scatter(x, y, color='red', label=\"Tracked points\")\n",
    "plt.plot(x_interp, y_interp, label=\"Quadratic Fit\", color='blue')\n",
    "#plt.xlabel(\"X values\")\n",
    "#plt.ylabel(\"Y values\")\n",
    "plt.legend()\n",
    "#plt.title(\"Quadratic Fit of Data\")\n",
    "plt.show()\n",
    "\n",
    "print(f\"Fitted curve data saved to {file_path}\")\n"
   ]
  },
  {
   "cell_type": "markdown",
   "id": "d8dadd8f",
   "metadata": {},
   "source": []
  }
 ],
 "metadata": {
  "kernelspec": {
   "display_name": "Python 3 (ipykernel)",
   "language": "python",
   "name": "python3"
  },
  "language_info": {
   "codemirror_mode": {
    "name": "ipython",
    "version": 3
   },
   "file_extension": ".py",
   "mimetype": "text/x-python",
   "name": "python",
   "nbconvert_exporter": "python",
   "pygments_lexer": "ipython3",
   "version": "3.9.13"
  },
  "vscode": {
   "interpreter": {
    "hash": "40d3a090f54c6569ab1632332b64b2c03c39dcf918b08424e98f38b5ae0af88f"
   }
  }
 },
 "nbformat": 4,
 "nbformat_minor": 5
}
